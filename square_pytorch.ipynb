{
 "cells": [
  {
   "cell_type": "code",
   "execution_count": 1,
   "id": "669c1e3b-6c00-49f2-8ccf-6c6ddf77c55f",
   "metadata": {},
   "outputs": [],
   "source": [
    "import torch\n",
    "import torch.nn as nn\n",
    "import torchvision.transforms as transforms\n",
    "import matplotlib.pyplot as plt\n",
    "\n"
   ]
  },
  {
   "cell_type": "code",
   "execution_count": 2,
   "id": "41277482-9d7c-4c06-b118-6f974b526082",
   "metadata": {},
   "outputs": [],
   "source": [
    "#Creating the basick modell\n",
    "\n",
    "\n",
    "class NeuralNetwork(nn.Module):\n",
    "    def __init__(self):\n",
    "        super().__init__()\n",
    "        self.linear_stack =  nn.Sequential(\n",
    "         nn.Linear(1,15),\n",
    "         nn.ReLU(),\n",
    "         nn.Linear(15,15),\n",
    "         nn.ReLU(),\n",
    "         nn.Linear(15,15),\n",
    "         nn.ReLU(),\n",
    "         nn.Linear(15,1),\n",
    "         )\n",
    "    def forward(self,x):\n",
    "        logits = self.linear_stack(x)\n",
    "        return logits\n",
    "\n"
   ]
  },
  {
   "cell_type": "code",
   "execution_count": 18,
   "id": "54b3a370-f4bb-44ef-ab34-daa13318ff7b",
   "metadata": {},
   "outputs": [],
   "source": [
    "#create train_set\n",
    "batch_size = 10000 #increasing batch size, helped for getting a more acruate result\n",
    "X = torch.rand(batch_size,1, dtype=torch.float32)\n",
    "Y = X**2\n",
    "\n"
   ]
  },
  {
   "cell_type": "code",
   "execution_count": 19,
   "id": "d6205c3c-2b6a-4389-aab2-39a57e1d262f",
   "metadata": {},
   "outputs": [],
   "source": [
    "model = NeuralNetwork()"
   ]
  },
  {
   "cell_type": "code",
   "execution_count": 20,
   "id": "cc890f52-b999-4d81-889e-c0c03155bd6a",
   "metadata": {},
   "outputs": [],
   "source": [
    "#Define Hyperparameters\n",
    "lr = 0.01\n",
    "optim = torch.optim.Adam(model.parameters(), lr=lr)\n",
    "\n",
    "loss = torch.nn.MSELoss()\n",
    "n_iters = 10000\n"
   ]
  },
  {
   "cell_type": "code",
   "execution_count": 21,
   "id": "7ab24d02-7a96-4058-9ab9-ccfbdc786e27",
   "metadata": {},
   "outputs": [],
   "source": [
    "# Training loop\n",
    "for epochs in range(n_iters):\n",
    "    #forward pass and loss\n",
    "    out = model(X)\n",
    "    l = loss(out,Y)\n",
    "    #backward pass\n",
    "    l.backward()\n",
    "    #update weights\n",
    "    optim.step()\n",
    "    optim.zero_grad()\n",
    "\n",
    "    #if epochs % 1000 == 0:\n",
    "       # print(f\" {epochs+100}, l={l.item()}\")\n"
   ]
  },
  {
   "cell_type": "code",
   "execution_count": 22,
   "id": "eebe5349-1972-48f2-bc94-286cfdda9543",
   "metadata": {},
   "outputs": [
    {
     "name": "stdout",
     "output_type": "stream",
     "text": [
      "Real outcome : 0.05; Predicted output : 0.05\n",
      "Real outcome : 0.43; Predicted output : 0.43\n",
      "Real outcome : 0.45; Predicted output : 0.45\n",
      "Real outcome : 0.01; Predicted output : 0.00\n",
      "Real outcome : 0.12; Predicted output : 0.12\n",
      "Real outcome : 0.56; Predicted output : 0.56\n",
      "Real outcome : 0.20; Predicted output : 0.20\n",
      "Real outcome : 0.66; Predicted output : 0.66\n",
      "Real outcome : 0.50; Predicted output : 0.50\n",
      "Real outcome : 0.01; Predicted output : 0.01\n"
     ]
    }
   ],
   "source": [
    "test_cases = 10\n",
    "for i in range(test_cases):\n",
    "    X_test = torch.rand(1,1)\n",
    "    print(f\"Real outcome : {(X_test**2).item():.2f}; Predicted output : {model(X_test).item():.2f}\")"
   ]
  },
  {
   "cell_type": "code",
   "execution_count": 31,
   "id": "ff6ff7d8-007d-44ce-832d-259ff8634238",
   "metadata": {},
   "outputs": [],
   "source": [
    "#calculate accuracy\n",
    "test_cases = 100\n",
    "correct_count = 0\n",
    "y = []\n",
    "y_predicted = []\n",
    "for i in range (test_cases):\n",
    "    X_test = torch.rand(1,1, dtype=torch.float32)\n",
    "    y.append(torch.round(X_test**2,decimals=2))\n",
    "    y_predicted.append(torch.round(model(X_test), decimals=2))\n",
    "    \n",
    "count = 0   \n",
    "for i in range(test_cases):\n",
    "    if y_predicted[i] == y[i]:\n",
    "        count += 1\n",
    "#print(f\"Accuracy of model : {(count/test_cases)*100} %\")"
   ]
  },
  {
   "cell_type": "code",
   "execution_count": 32,
   "id": "5ef43604-31d1-4856-b8e0-6bb9153b0c95",
   "metadata": {},
   "outputs": [],
   "source": [
    "#Lets see if adding additional layers improves overall accuracy of the model\n",
    "class NeuralNetwork_2(nn.Module):\n",
    "    def __init__(self):\n",
    "        super().__init__()\n",
    "        self.linear_stack =  nn.Sequential(\n",
    "         nn.Linear(1,30),\n",
    "         nn.ReLU(),\n",
    "         nn.Linear(30,40),\n",
    "         nn.ReLU(),\n",
    "         nn.Linear(40,40),\n",
    "         nn.ReLU(),\n",
    "         nn.Linear(40,30),\n",
    "         nn.ReLU(),\n",
    "         nn.Linear(30,1),\n",
    "\n",
    "         )\n",
    "    def forward(self,x):\n",
    "        logits = self.linear_stack(x)\n",
    "        return logits"
   ]
  },
  {
   "cell_type": "code",
   "execution_count": 33,
   "id": "d6a82461-b958-4d88-9b59-859237fcee4d",
   "metadata": {},
   "outputs": [],
   "source": [
    "model_2 = NeuralNetwork_2()\n",
    "lr = 0.01\n",
    "optim = torch.optim.Adam(model_2.parameters(), lr=lr)\n",
    "\n",
    "loss = torch.nn.MSELoss()\n",
    "n_iters = 10000\n",
    "\n"
   ]
  },
  {
   "cell_type": "code",
   "execution_count": 34,
   "id": "b9a64fec-9a18-4745-925f-3c5bd87b1f2c",
   "metadata": {},
   "outputs": [
    {
     "name": "stdout",
     "output_type": "stream",
     "text": [
      " 1000, l=0.23603878915309906\n",
      " 2000, l=5.281269750412321e-07\n",
      " 3000, l=4.113193426746875e-06\n",
      " 4000, l=8.256101864390075e-05\n",
      " 5000, l=1.2558884918689728e-06\n",
      " 6000, l=1.9494214029691648e-06\n",
      " 7000, l=7.99587098754273e-07\n",
      " 8000, l=8.345164133061189e-07\n",
      " 9000, l=2.4535429474781267e-05\n",
      " 10000, l=2.0701797893707408e-06\n"
     ]
    }
   ],
   "source": [
    "for epochs in range(n_iters):\n",
    "    #forward pass and loss\n",
    "    out = model_2(X)\n",
    "    l = loss(out,Y)\n",
    "    #backward pass\n",
    "    l.backward()\n",
    "    #update weights\n",
    "    optim.step()\n",
    "    optim.zero_grad()\n",
    "    n = 1000\n",
    "    if epochs % n == 0:\n",
    "        print(f\" {epochs+n}, l={l.item()}\")"
   ]
  },
  {
   "cell_type": "code",
   "execution_count": 35,
   "id": "79a9b7f3",
   "metadata": {},
   "outputs": [],
   "source": [
    "def accuracy_model(model, range_test,test_cases):\n",
    "    end_result = []\n",
    "    for i in range(range_test):\n",
    "        y = []\n",
    "        y_predicted = []\n",
    "        for i in range (test_cases):\n",
    "            X_test = torch.rand(1,1, dtype=torch.float32)\n",
    "            y.append(torch.round(X_test**2,decimals=2))\n",
    "            y_predicted.append(torch.round(model(X_test), decimals=2))\n",
    "    \n",
    "        count = 0   \n",
    "        for i in range(test_cases):\n",
    "            if y_predicted[i] == y[i]:\n",
    "                count += 1\n",
    "        end_result.append((count/test_cases))\n",
    "    return print(f\"Average Accuracy of model over {range_test} iterations : {(sum(end_result)/range_test)*100:.2f} %\")"
   ]
  },
  {
   "cell_type": "code",
   "execution_count": 36,
   "id": "b83f7e4a",
   "metadata": {},
   "outputs": [
    {
     "name": "stdout",
     "output_type": "stream",
     "text": [
      "Average Accuracy of model over 100 iterations : 94.50 %\n"
     ]
    }
   ],
   "source": [
    "accuracy_model(model,100,100) #lower number of hidden layers and neurons per Layer"
   ]
  },
  {
   "cell_type": "code",
   "execution_count": 37,
   "id": "f6bae424",
   "metadata": {},
   "outputs": [
    {
     "name": "stdout",
     "output_type": "stream",
     "text": [
      "Average Accuracy of model over 100 iterations : 95.06 %\n"
     ]
    }
   ],
   "source": [
    "accuracy_model(model_2,100,100)"
   ]
  },
  {
   "cell_type": "code",
   "execution_count": 17,
   "id": "6b3e6794",
   "metadata": {},
   "outputs": [],
   "source": [
    "# while reducing the batch_size we get better results with model_1 instead of model_2\n",
    "# although we can see, that we ae"
   ]
  },
  {
   "cell_type": "code",
   "execution_count": null,
   "id": "110d52c3",
   "metadata": {},
   "outputs": [],
   "source": []
  }
 ],
 "metadata": {
  "kernelspec": {
   "display_name": "Python 3 (ipykernel)",
   "language": "python",
   "name": "python3"
  },
  "language_info": {
   "codemirror_mode": {
    "name": "ipython",
    "version": 3
   },
   "file_extension": ".py",
   "mimetype": "text/x-python",
   "name": "python",
   "nbconvert_exporter": "python",
   "pygments_lexer": "ipython3",
   "version": "3.10.8"
  }
 },
 "nbformat": 4,
 "nbformat_minor": 5
}
