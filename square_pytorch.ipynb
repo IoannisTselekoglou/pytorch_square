{
 "cells": [
  {
   "cell_type": "code",
   "execution_count": 1,
   "id": "669c1e3b-6c00-49f2-8ccf-6c6ddf77c55f",
   "metadata": {},
   "outputs": [],
   "source": [
    "import torch\n",
    "import torch.nn as nn\n",
    "import torchvision.transforms as transforms\n",
    "import matplotlib.pyplot as plt"
   ]
  },
  {
   "cell_type": "code",
   "execution_count": 2,
   "id": "41277482-9d7c-4c06-b118-6f974b526082",
   "metadata": {},
   "outputs": [],
   "source": [
    "#Creating the basick modell\n",
    "\n",
    "\n",
    "class NeuralNetwork(nn.Module):\n",
    "    def __init__(self):\n",
    "        super().__init__()\n",
    "        self.linear_stack =  nn.Sequential(\n",
    "         nn.Linear(1,15),\n",
    "         nn.ReLU(),\n",
    "         nn.Linear(15,15),\n",
    "         nn.ReLU(),\n",
    "         nn.Linear(15,15),\n",
    "         nn.ReLU(),\n",
    "         nn.Linear(15,1),\n",
    "         )\n",
    "    def forward(self,x):\n",
    "        logits = self.linear_stack(x)\n",
    "        return logits\n",
    "\n"
   ]
  },
  {
   "cell_type": "code",
   "execution_count": 35,
   "id": "54b3a370-f4bb-44ef-ab34-daa13318ff7b",
   "metadata": {},
   "outputs": [],
   "source": [
    "#create train_set\n",
    "batch_size = 10000 #increasing batch size, helped for getting a more acruate result\n",
    "X = torch.rand(batch_size,1, dtype=torch.float32)\n",
    "Y = X**2\n",
    "\n",
    "X_1 = torch.rand(90,1,dtype=torch.float32)\n",
    "Y_1 = X_1**2\n"
   ]
  },
  {
   "cell_type": "code",
   "execution_count": 47,
   "id": "e203dc1f",
   "metadata": {},
   "outputs": [
    {
     "data": {
      "text/plain": [
       "[Text(0.5, 1.0, 'low batch size')]"
      ]
     },
     "execution_count": 47,
     "metadata": {},
     "output_type": "execute_result"
    },
    {
     "data": {
      "image/png": "[encoded data removed]",
      "text/plain": [
       "<Figure size 900x300 with 2 Axes>"
      ]
     },
     "metadata": {},
     "output_type": "display_data"
    }
   ],
   "source": [
    "#Ploting the Data for better Visuals high batch size vs low batch size \n",
    "fig, axs = plt.subplots(1, 2, figsize=(9, 3), sharey=True)\n",
    "axs[0].scatter(X, Y)\n",
    "axs[0].set(title=\"high batch size\")               \n",
    "axs[1].scatter(X_1, Y_1)\n",
    "axs[1].set(title=\"low batch size\")"
   ]
  },
  {
   "cell_type": "code",
   "execution_count": 4,
   "id": "d6205c3c-2b6a-4389-aab2-39a57e1d262f",
   "metadata": {},
   "outputs": [],
   "source": [
    "model = NeuralNetwork()"
   ]
  },
  {
   "cell_type": "code",
   "execution_count": 5,
   "id": "cc890f52-b999-4d81-889e-c0c03155bd6a",
   "metadata": {},
   "outputs": [],
   "source": [
    "#Define Hyperparameters\n",
    "lr = 0.01\n",
    "optim = torch.optim.Adam(model.parameters(), lr=lr)\n",
    "\n",
    "loss = torch.nn.MSELoss()\n",
    "n_iters = 10000\n"
   ]
  },
  {
   "cell_type": "code",
   "execution_count": 6,
   "id": "7ab24d02-7a96-4058-9ab9-ccfbdc786e27",
   "metadata": {},
   "outputs": [],
   "source": [
    "# Training loop\n",
    "for epochs in range(n_iters):\n",
    "    #forward pass and loss\n",
    "    out = model(X)\n",
    "    l = loss(out,Y)\n",
    "    #backward pass\n",
    "    l.backward()\n",
    "    #update weights\n",
    "    optim.step()\n",
    "    optim.zero_grad()\n",
    "\n",
    "    #if epochs % 1000 == 0:\n",
    "       # print(f\" {epochs+100}, l={l.item()}\")\n"
   ]
  },
  {
   "cell_type": "code",
   "execution_count": 7,
   "id": "eebe5349-1972-48f2-bc94-286cfdda9543",
   "metadata": {},
   "outputs": [
    {
     "name": "stdout",
     "output_type": "stream",
     "text": [
      "Real outcome : 0.68; Predicted output : 0.68\n",
      "Real outcome : 0.95; Predicted output : 0.95\n",
      "Real outcome : 0.09; Predicted output : 0.09\n",
      "Real outcome : 0.10; Predicted output : 0.09\n",
      "Real outcome : 0.47; Predicted output : 0.47\n",
      "Real outcome : 0.01; Predicted output : 0.01\n",
      "Real outcome : 0.06; Predicted output : 0.06\n",
      "Real outcome : 0.53; Predicted output : 0.52\n",
      "Real outcome : 0.03; Predicted output : 0.03\n",
      "Real outcome : 0.61; Predicted output : 0.61\n"
     ]
    }
   ],
   "source": [
    "test_cases = 10\n",
    "for i in range(test_cases):\n",
    "    X_test = torch.rand(1,1)\n",
    "    print(f\"Real outcome : {(X_test**2).item():.2f}; Predicted output : {model(X_test).item():.2f}\")"
   ]
  },
  {
   "cell_type": "code",
   "execution_count": 8,
   "id": "ff6ff7d8-007d-44ce-832d-259ff8634238",
   "metadata": {},
   "outputs": [],
   "source": [
    "#calculate accuracy\n",
    "test_cases = 100\n",
    "correct_count = 0\n",
    "y = []\n",
    "y_predicted = []\n",
    "for i in range (test_cases):\n",
    "    X_test = torch.rand(1,1, dtype=torch.float32)\n",
    "    y.append(torch.round(X_test**2,decimals=2))\n",
    "    y_predicted.append(torch.round(model(X_test), decimals=2))\n",
    "    \n",
    "count = 0   \n",
    "for i in range(test_cases):\n",
    "    if y_predicted[i] == y[i]:\n",
    "        count += 1\n",
    "#print(f\"Accuracy of model : {(count/test_cases)*100} %\")"
   ]
  },
  {
   "cell_type": "code",
   "execution_count": 9,
   "id": "5ef43604-31d1-4856-b8e0-6bb9153b0c95",
   "metadata": {},
   "outputs": [],
   "source": [
    "#Lets see if adding additional layers improves overall accuracy of the model\n",
    "class NeuralNetwork_2(nn.Module):\n",
    "    def __init__(self):\n",
    "        super().__init__()\n",
    "        self.linear_stack =  nn.Sequential(\n",
    "         nn.Linear(1,30),\n",
    "         nn.ReLU(),\n",
    "         nn.Linear(30,40),\n",
    "         nn.ReLU(),\n",
    "         nn.Linear(40,40),\n",
    "         nn.ReLU(),\n",
    "         nn.Linear(40,30),\n",
    "         nn.ReLU(),\n",
    "         nn.Linear(30,1),\n",
    "\n",
    "         )\n",
    "    def forward(self,x):\n",
    "        logits = self.linear_stack(x)\n",
    "        return logits"
   ]
  },
  {
   "cell_type": "code",
   "execution_count": 10,
   "id": "d6a82461-b958-4d88-9b59-859237fcee4d",
   "metadata": {},
   "outputs": [],
   "source": [
    "model_2 = NeuralNetwork_2()\n",
    "lr = 0.01\n",
    "optim = torch.optim.Adam(model_2.parameters(), lr=lr)\n",
    "\n",
    "loss = torch.nn.MSELoss()\n",
    "n_iters = 10000\n",
    "\n"
   ]
  },
  {
   "cell_type": "code",
   "execution_count": 11,
   "id": "b9a64fec-9a18-4745-925f-3c5bd87b1f2c",
   "metadata": {},
   "outputs": [
    {
     "name": "stdout",
     "output_type": "stream",
     "text": [
      " 1000, l=0.17502480745315552\n",
      " 2000, l=5.33618106146605e-07\n",
      " 3000, l=8.922634719965572e-07\n",
      " 4000, l=3.2597083077234856e-07\n",
      " 5000, l=4.947588649883983e-07\n",
      " 6000, l=3.573213916752138e-06\n",
      " 7000, l=6.328834842861397e-07\n",
      " 8000, l=5.198736516831559e-07\n",
      " 9000, l=1.8911062227289221e-07\n",
      " 10000, l=5.711793278351252e-07\n"
     ]
    }
   ],
   "source": [
    "for epochs in range(n_iters):\n",
    "    #forward pass and loss\n",
    "    out = model_2(X)\n",
    "    l = loss(out,Y)\n",
    "    #backward pass\n",
    "    l.backward()\n",
    "    #update weights\n",
    "    optim.step()\n",
    "    optim.zero_grad()\n",
    "    n = 1000\n",
    "    if epochs % n == 0:\n",
    "        print(f\" {epochs+n}, l={l.item()}\")"
   ]
  },
  {
   "cell_type": "code",
   "execution_count": 12,
   "id": "0a9a8a09",
   "metadata": {},
   "outputs": [],
   "source": [
    "def accuracy_model(model, range_test,test_cases):\n",
    "    end_result = []\n",
    "    for i in range(range_test):\n",
    "        y = []\n",
    "        y_predicted = []\n",
    "        for i in range (test_cases):\n",
    "            X_test = torch.rand(1,1, dtype=torch.float32)\n",
    "            y.append(torch.round(X_test**2,decimals=2))\n",
    "            y_predicted.append(torch.round(model(X_test), decimals=2))\n",
    "    \n",
    "        count = 0   \n",
    "        for i in range(test_cases):\n",
    "            if y_predicted[i] == y[i]:\n",
    "                count += 1\n",
    "        end_result.append((count/test_cases))\n",
    "    return print(f\"Average Accuracy of model over {range_test} iterations : {(sum(end_result)/range_test)*100:.2f} %\")"
   ]
  },
  {
   "cell_type": "code",
   "execution_count": 13,
   "id": "a61535c2",
   "metadata": {},
   "outputs": [
    {
     "name": "stdout",
     "output_type": "stream",
     "text": [
      "Average Accuracy of model over 100 iterations : 85.47 %\n"
     ]
    }
   ],
   "source": [
    "accuracy_model(model,100,100) #lower number of hidden layers and neurons per Layer"
   ]
  },
  {
   "cell_type": "code",
   "execution_count": 14,
   "id": "ee28c608",
   "metadata": {},
   "outputs": [
    {
     "name": "stdout",
     "output_type": "stream",
     "text": [
      "Average Accuracy of model over 100 iterations : 96.83 %\n"
     ]
    }
   ],
   "source": [
    "accuracy_model(model_2,100,100)"
   ]
  },
  {
   "cell_type": "code",
   "execution_count": 15,
   "id": "b2657868",
   "metadata": {},
   "outputs": [],
   "source": [
    "# while reducing the batch_size we get better results with model_1 instead of model_2\n",
    "# although we can see, that we are not getting much improvment while adding hidden layers"
   ]
  },
  {
   "cell_type": "code",
   "execution_count": 27,
   "id": "39fafe48",
   "metadata": {},
   "outputs": [
    {
     "name": "stdout",
     "output_type": "stream",
     "text": [
      "0.009483486413955688\n",
      "5.679123878479004\n"
     ]
    }
   ],
   "source": [
    "print(model_2(torch.Tensor([0.1])).item())\n",
    "print(model_2(torch.Tensor([4])).item())"
   ]
  },
  {
   "cell_type": "code",
   "execution_count": 26,
   "id": "b41bf489",
   "metadata": {},
   "outputs": [
    {
     "name": "stdout",
     "output_type": "stream",
     "text": [
      "4.0\n"
     ]
    }
   ],
   "source": []
  },
  {
   "cell_type": "code",
   "execution_count": null,
   "id": "3c828a72",
   "metadata": {},
   "outputs": [],
   "source": []
  }
 ],
 "metadata": {
  "kernelspec": {
   "display_name": "Python 3 (ipykernel)",
   "language": "python",
   "name": "python3"
  },
  "language_info": {
   "codemirror_mode": {
    "name": "ipython",
    "version": 3
   },
   "file_extension": ".py",
   "mimetype": "text/x-python",
   "name": "python",
   "nbconvert_exporter": "python",
   "pygments_lexer": "ipython3",
   "version": "3.10.8"
  }
 },
 "nbformat": 4,
 "nbformat_minor": 5
}
